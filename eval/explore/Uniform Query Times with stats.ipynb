{
 "cells": [
  {
   "cell_type": "code",
   "execution_count": 1,
   "metadata": {},
   "outputs": [],
   "source": [
    "import numpy as np\n",
    "import matplotlib as mpl\n",
    "import seaborn as sns\n",
    "sns.set()\n",
    "%matplotlib inline\n",
    "\n",
    "import pandas as pd\n",
    "\n",
    "import json\n",
    "import glob\n",
    "import os"
   ]
  },
  {
   "cell_type": "code",
   "execution_count": 2,
   "metadata": {},
   "outputs": [],
   "source": [
    "paths = glob.glob(os.environ['TDCCH_EXP_OUTPUT_DIR'] + \"/query_stats_all_graphs/*.json\")\n",
    "data = [json.load(open(path)) for path in paths]"
   ]
  },
  {
   "cell_type": "code",
   "execution_count": 3,
   "metadata": {},
   "outputs": [],
   "source": [
    "query_running_times = pd.DataFrame.from_records([{ \n",
    "    'graph': run['args'][1],\n",
    "    'A*': True,\n",
    "    **algo } \n",
    "    for run in data for algo in run[\"algo_runs\"] if algo['algo'] == \"Floating TDCCH Query\"])"
   ]
  },
  {
   "cell_type": "code",
   "execution_count": 4,
   "metadata": {},
   "outputs": [],
   "source": [
    "paths = glob.glob(os.environ['TDCCH_EXP_OUTPUT_DIR'] + \"/query_stats_no_astar_all_graphs/*.json\")\n",
    "data = [json.load(open(path)) for path in paths]\n",
    "\n",
    "query_running_times = query_running_times.append(pd.DataFrame.from_records([{ \n",
    "    'graph': run['args'][1],\n",
    "    'A*': False,\n",
    "    **algo } \n",
    "    for run in data for algo in run[\"algo_runs\"] if algo['algo'] == \"Floating TDCCH Query\"]))"
   ]
  },
  {
   "cell_type": "code",
   "execution_count": 34,
   "metadata": {},
   "outputs": [
    {
     "data": {
      "text/plain": [
       "'\\\\begin{tabular}{lrrrrrrrr}\\n\\\\toprule\\n{} & \\\\#nodes in CCH search space & \\\\#relaxed shortcuts & \\\\multicolumn{2}{l}{\\\\#settled nodes} & \\\\multicolumn{2}{l}{\\\\#evaluated/unpacked arcs} & \\\\multicolumn{2}{l}{running time [ms]} \\\\\\\\\\nA* &          No &  Yes &                    No &  Yes &             No &  Yes \\\\\\\\\\ngraph &                            &                    &                &       &                          &       &                   &       \\\\\\\\\\n\\\\midrule\\nGer06 &                        756 &              52843 &           3410 &   865 &                     3952 &  1042 &             1.646 & 0.563 \\\\\\\\\\nGer17 &                        790 &              59692 &          18881 &  3097 &                    20401 &  3502 &            12.689 & 1.542 \\\\\\\\\\nEur17 &                       1430 &             206142 &          43872 &  6915 &                    48917 &  8197 &            25.421 & 3.987 \\\\\\\\\\n\\\\bottomrule\\n\\\\end{tabular}\\n'"
      ]
     },
     "execution_count": 34,
     "metadata": {},
     "output_type": "execute_result"
    }
   ],
   "source": [
    "table = query_running_times \\\n",
    "    .groupby(['graph', 'A*']) \\\n",
    "    [['num_nodes_in_elimination_tree_search_space', 'num_relaxed_elimination_tree_arcs', 'num_settled_nodes', 'num_relaxed_shortcut_arcs', 'running_time_ms']] \\\n",
    "    .mean() \\\n",
    "    .unstack()\n",
    "\n",
    "table['num_nodes_in_elimination_tree_search_space_joined'] = table['num_nodes_in_elimination_tree_search_space'][False].round().astype(int)\n",
    "table['num_relaxed_elimination_tree_arcs_joined'] = table['num_relaxed_elimination_tree_arcs'][False].round().astype(int)\n",
    "\n",
    "table['num_settled_nodes'] = table['num_settled_nodes'].round().astype(int)\n",
    "table['num_relaxed_shortcut_arcs'] = table['num_relaxed_shortcut_arcs'].round().astype(int)\n",
    "\n",
    "table[['num_nodes_in_elimination_tree_search_space_joined', 'num_relaxed_elimination_tree_arcs_joined', 'num_settled_nodes', 'num_relaxed_shortcut_arcs', 'running_time_ms']] \\\n",
    "    .loc[[os.environ['TDCCH_GRAPH_DIR'] + graph for graph in ['de/day/dido/', 'ptv17-de-car/day/di/', 'ptv17-eur-car/day/di/']]] \\\n",
    "    .rename(index={ os.environ['TDCCH_GRAPH_DIR'] + old: new for (old, new) in [('de/day/dido/', 'Ger06'), ('ptv17-de-car/day/di/', 'Ger17'), ('ptv17-eur-car/day/di/', 'Eur17')] }) \\\n",
    "    .rename(columns={'num_nodes_in_elimination_tree_search_space_joined': '#nodes in CCH search space', \n",
    "                     'num_relaxed_elimination_tree_arcs_joined': '#relaxed shortcuts',\n",
    "                     'num_settled_nodes': '#settled nodes',\n",
    "                     'num_relaxed_shortcut_arcs': '#evaluated/unpacked arcs',\n",
    "                     'running_time_ms': 'running time [ms]',}) \\\n",
    "    .to_latex(float_format='{:0.3f}'.format) \\\n",
    "    .replace('False', 'No') \\\n",
    "    .replace('True', 'Yes')"
   ]
  }
 ],
 "metadata": {
  "kernelspec": {
   "display_name": "Python 3",
   "language": "python",
   "name": "python3"
  },
  "language_info": {
   "codemirror_mode": {
    "name": "ipython",
    "version": 3
   },
   "file_extension": ".py",
   "mimetype": "text/x-python",
   "name": "python",
   "nbconvert_exporter": "python",
   "pygments_lexer": "ipython3",
   "version": "3.7.3"
  }
 },
 "nbformat": 4,
 "nbformat_minor": 2
}
