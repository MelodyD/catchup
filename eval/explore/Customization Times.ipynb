{
 "cells": [
  {
   "cell_type": "code",
   "execution_count": 1,
   "metadata": {},
   "outputs": [],
   "source": [
    "import numpy as np\n",
    "import matplotlib as mpl\n",
    "import seaborn as sns\n",
    "sns.set()\n",
    "%matplotlib inline\n",
    "\n",
    "import pandas as pd\n",
    "\n",
    "import json\n",
    "import glob\n",
    "import os"
   ]
  },
  {
   "cell_type": "code",
   "execution_count": 6,
   "metadata": {},
   "outputs": [],
   "source": [
    "base_path = os.environ['TDCCH_EXP_OUTPUT_DIR'] +\"/../tdcch_flowcutter_better_trees\"\n",
    "paths = glob.glob(base_path + \"/customization_all_graphs/*.json\")\n",
    "data = [json.load(open(path)) for path in paths]"
   ]
  },
  {
   "cell_type": "code",
   "execution_count": 7,
   "metadata": {},
   "outputs": [],
   "source": [
    "customization_running_times = pd.DataFrame.from_records([{ \n",
    "    'graph': run['args'][1],\n",
    "    'num_threads': run['num_threads'], \n",
    "    'customization_running_time_s': algo['main']['running_time_ms'] / 1000,\n",
    "    **algo } \n",
    "    for run in data for algo in run[\"algo_runs\"] if algo['algo'] == \"Floating TDCCH Customization\"])"
   ]
  },
  {
   "cell_type": "code",
   "execution_count": 8,
   "metadata": {},
   "outputs": [
    {
     "data": {
      "text/plain": [
       "graph\n",
       "/algoDaten/graphs/cleaned_td_road_data//ber/day/di/                  6.1224\n",
       "/algoDaten/graphs/cleaned_td_road_data//ber/day/do/                  6.2524\n",
       "/algoDaten/graphs/cleaned_td_road_data//ber/day/fr/                  5.7370\n",
       "/algoDaten/graphs/cleaned_td_road_data//ber/day/mi/                  6.1626\n",
       "/algoDaten/graphs/cleaned_td_road_data//ber/day/mo/                  6.0054\n",
       "/algoDaten/graphs/cleaned_td_road_data//ber/day/sa/                  3.9668\n",
       "/algoDaten/graphs/cleaned_td_road_data//ber/day/so/                  3.3452\n",
       "/algoDaten/graphs/cleaned_td_road_data//de/day/dido/                20.0152\n",
       "/algoDaten/graphs/cleaned_td_road_data//de/day/fr/                  15.7298\n",
       "/algoDaten/graphs/cleaned_td_road_data//de/day/mo/                  18.8740\n",
       "/algoDaten/graphs/cleaned_td_road_data//de/day/sa/                   5.6208\n",
       "/algoDaten/graphs/cleaned_td_road_data//de/day/so/                   3.3610\n",
       "/algoDaten/graphs/cleaned_td_road_data//eur/day/c1/                 80.5108\n",
       "/algoDaten/graphs/cleaned_td_road_data//eur/day/c2/                215.4930\n",
       "/algoDaten/graphs/cleaned_td_road_data//eur/day/c3/                485.0228\n",
       "/algoDaten/graphs/cleaned_td_road_data//ptv16-de/day/the_one/      102.7548\n",
       "/algoDaten/graphs/cleaned_td_road_data//ptv17-de-car/day/di/        95.7200\n",
       "/algoDaten/graphs/cleaned_td_road_data//ptv17-de-truck/day/di/     117.9330\n",
       "/algoDaten/graphs/cleaned_td_road_data//ptv17-eur-car/day/di/      546.7664\n",
       "/algoDaten/graphs/cleaned_td_road_data//ptv17-eur-truck/day/di/    648.6860\n",
       "/algoDaten/graphs/cleaned_td_road_data//ptv17-lux-car/day/di/        0.4636\n",
       "/algoDaten/graphs/cleaned_td_road_data//ptv17-lux-truck/day/di/      0.6484\n",
       "Name: customization_running_time_s, dtype: float64"
      ]
     },
     "execution_count": 8,
     "metadata": {},
     "output_type": "execute_result"
    }
   ],
   "source": [
    "customization_running_times.groupby('graph')['customization_running_time_s'].mean()"
   ]
  },
  {
   "cell_type": "code",
   "execution_count": 5,
   "metadata": {},
   "outputs": [
    {
     "data": {
      "text/plain": [
       "graph\n",
       "/algoDaten/graphs/cleaned_td_road_data/ber/day/di/                  6.2606\n",
       "/algoDaten/graphs/cleaned_td_road_data/ber/day/do/                  6.2964\n",
       "/algoDaten/graphs/cleaned_td_road_data/ber/day/fr/                  5.8262\n",
       "/algoDaten/graphs/cleaned_td_road_data/ber/day/mi/                  6.2138\n",
       "/algoDaten/graphs/cleaned_td_road_data/ber/day/mo/                  6.1370\n",
       "/algoDaten/graphs/cleaned_td_road_data/ber/day/sa/                  4.0406\n",
       "/algoDaten/graphs/cleaned_td_road_data/ber/day/so/                  3.4228\n",
       "/algoDaten/graphs/cleaned_td_road_data/de/day/dido/                20.2484\n",
       "/algoDaten/graphs/cleaned_td_road_data/de/day/fr/                  15.8484\n",
       "/algoDaten/graphs/cleaned_td_road_data/de/day/mo/                  19.0080\n",
       "/algoDaten/graphs/cleaned_td_road_data/de/day/sa/                   5.6094\n",
       "/algoDaten/graphs/cleaned_td_road_data/de/day/so/                   3.3168\n",
       "/algoDaten/graphs/cleaned_td_road_data/eur/day/c1/                 80.9470\n",
       "/algoDaten/graphs/cleaned_td_road_data/eur/day/c2/                215.9080\n",
       "/algoDaten/graphs/cleaned_td_road_data/eur/day/c3/                484.7464\n",
       "/algoDaten/graphs/cleaned_td_road_data/ptv16-de/day/the_one/      103.8872\n",
       "/algoDaten/graphs/cleaned_td_road_data/ptv17-de-car/day/di/        97.1168\n",
       "/algoDaten/graphs/cleaned_td_road_data/ptv17-de-truck/day/di/     118.0184\n",
       "/algoDaten/graphs/cleaned_td_road_data/ptv17-eur-car/day/di/      562.8886\n",
       "/algoDaten/graphs/cleaned_td_road_data/ptv17-eur-truck/day/di/    661.3250\n",
       "/algoDaten/graphs/cleaned_td_road_data/ptv17-lux-car/day/di/        0.4658\n",
       "/algoDaten/graphs/cleaned_td_road_data/ptv17-lux-truck/day/di/      0.6456\n",
       "Name: customization_running_time_s, dtype: float64"
      ]
     },
     "execution_count": 5,
     "metadata": {},
     "output_type": "execute_result"
    }
   ],
   "source": [
    "customization_running_times.groupby('graph')['customization_running_time_s'].mean()"
   ]
  }
 ],
 "metadata": {
  "kernelspec": {
   "display_name": "Python 3",
   "language": "python",
   "name": "python3"
  },
  "language_info": {
   "codemirror_mode": {
    "name": "ipython",
    "version": 3
   },
   "file_extension": ".py",
   "mimetype": "text/x-python",
   "name": "python",
   "nbconvert_exporter": "python",
   "pygments_lexer": "ipython3",
   "version": "3.7.3"
  }
 },
 "nbformat": 4,
 "nbformat_minor": 2
}
