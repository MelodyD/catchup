{
 "cells": [
  {
   "cell_type": "code",
   "execution_count": 1,
   "metadata": {},
   "outputs": [],
   "source": [
    "import numpy as np\n",
    "import matplotlib as mpl\n",
    "import seaborn as sns\n",
    "sns.set()\n",
    "%matplotlib inline\n",
    "\n",
    "import pandas as pd\n",
    "\n",
    "import json\n",
    "import glob\n",
    "import os"
   ]
  },
  {
   "cell_type": "code",
   "execution_count": 2,
   "metadata": {},
   "outputs": [],
   "source": [
    "base_path = os.environ['TDCCH_EXP_OUTPUT_DIR'] + \"/../tdcch_flowcutter_better_trees/\"\n",
    "paths = glob.glob(base_path + \"/query_stats_all_graphs/*.json\")\n",
    "data = [json.load(open(path)) for path in paths]"
   ]
  },
  {
   "cell_type": "code",
   "execution_count": 3,
   "metadata": {},
   "outputs": [],
   "source": [
    "query_running_times = pd.DataFrame.from_records([{ \n",
    "    'graph': run['args'][1],\n",
    "    **algo } \n",
    "    for run in data for algo in run[\"algo_runs\"] if algo['algo'] == \"Floating TDCCH Query\"])"
   ]
  },
  {
   "cell_type": "code",
   "execution_count": 7,
   "metadata": {},
   "outputs": [
    {
     "data": {
      "text/plain": [
       "running_time_ms                                    4.084048\n",
       "num_nodes_in_elimination_tree_search_space      1426.562020\n",
       "num_relaxed_elimination_tree_arcs             206139.544750\n",
       "num_meeting_nodes                                127.119220\n",
       "num_relaxed_shortcut_arcs                       8133.761690\n",
       "num_settled_nodes                               6855.064530\n",
       "Name: /algoDaten/graphs/cleaned_td_road_data//ptv17-eur-car/day/di/, dtype: float64"
      ]
     },
     "execution_count": 7,
     "metadata": {},
     "output_type": "execute_result"
    }
   ],
   "source": [
    "query_running_times.groupby('graph')[['running_time_ms', 'num_nodes_in_elimination_tree_search_space', 'num_relaxed_elimination_tree_arcs', 'num_meeting_nodes', 'num_relaxed_shortcut_arcs', 'num_settled_nodes']].mean().loc['/algoDaten/graphs/cleaned_td_road_data//ptv17-eur-car/day/di/']"
   ]
  }
 ],
 "metadata": {
  "kernelspec": {
   "display_name": "Python 3",
   "language": "python",
   "name": "python3"
  },
  "language_info": {
   "codemirror_mode": {
    "name": "ipython",
    "version": 3
   },
   "file_extension": ".py",
   "mimetype": "text/x-python",
   "name": "python",
   "nbconvert_exporter": "python",
   "pygments_lexer": "ipython3",
   "version": "3.7.3"
  }
 },
 "nbformat": 4,
 "nbformat_minor": 2
}
