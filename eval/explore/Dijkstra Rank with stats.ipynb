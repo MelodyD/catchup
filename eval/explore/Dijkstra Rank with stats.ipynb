{
 "cells": [
  {
   "cell_type": "code",
   "execution_count": 1,
   "metadata": {},
   "outputs": [],
   "source": [
    "import numpy as np\n",
    "import matplotlib as mpl\n",
    "import seaborn as sns\n",
    "sns.set()\n",
    "%matplotlib inline\n",
    "\n",
    "import pandas as pd\n",
    "\n",
    "import json\n",
    "import glob\n",
    "import os"
   ]
  },
  {
   "cell_type": "code",
   "execution_count": 2,
   "metadata": {},
   "outputs": [],
   "source": [
    "base_path = os.environ['TDCCH_EXP_OUTPUT_DIR']\n",
    "paths = glob.glob(base_path + \"/rank_queries_all_graphs/*.json\")\n",
    "data = [json.load(open(path)) for path in paths]"
   ]
  },
  {
   "cell_type": "code",
   "execution_count": 3,
   "metadata": {},
   "outputs": [],
   "source": [
    "query_running_times = pd.DataFrame.from_records([{ \n",
    "    'graph': run['args'][1],\n",
    "    **algo } \n",
    "    for run in data for algo in run[\"algo_runs\"] if algo['algo'] == \"Floating TDCCH Query\"])"
   ]
  },
  {
   "cell_type": "code",
   "execution_count": 19,
   "metadata": {},
   "outputs": [
    {
     "data": {
      "image/png": "[encoded data removed]",
      "text/plain": [
       "<Figure size 432x288 with 1 Axes>"
      ]
     },
     "metadata": {
      "needs_background": "light"
     },
     "output_type": "display_data"
    }
   ],
   "source": [
    "g = sns.boxplot(data=query_running_times.loc[lambda x: x['graph'] == \"/algoDaten/graphs/cleaned_td_road_data/ptv17-eur-car/day/di/\"], x='rank', y='running_time_ms', hue='algo')\n",
    "g.set_yscale('log')"
   ]
  },
  {
   "cell_type": "code",
   "execution_count": 13,
   "metadata": {},
   "outputs": [
    {
     "data": {
      "image/png": "[encoded data removed]",
      "text/plain": [
       "<Figure size 432x288 with 1 Axes>"
      ]
     },
     "metadata": {
      "needs_background": "light"
     },
     "output_type": "display_data"
    }
   ],
   "source": [
    "g = sns.boxplot(data=query_running_times.loc[lambda x: x['graph'] == \"/algoDaten/graphs/cleaned_td_road_data/de/day/dido/\"], x='rank', y='running_time_ms')\n",
    "g.set_yscale('log')"
   ]
  },
  {
   "cell_type": "code",
   "execution_count": 18,
   "metadata": {},
   "outputs": [
    {
     "data": {
      "text/html": [
       "<div>\n",
       "<style scoped>\n",
       "    .dataframe tbody tr th:only-of-type {\n",
       "        vertical-align: middle;\n",
       "    }\n",
       "\n",
       "    .dataframe tbody tr th {\n",
       "        vertical-align: top;\n",
       "    }\n",
       "\n",
       "    .dataframe thead th {\n",
       "        text-align: right;\n",
       "    }\n",
       "</style>\n",
       "<table border=\"1\" class=\"dataframe\">\n",
       "  <thead>\n",
       "    <tr style=\"text-align: right;\">\n",
       "      <th></th>\n",
       "      <th>algo</th>\n",
       "      <th>departure_time</th>\n",
       "      <th>earliest_arrival</th>\n",
       "      <th>from</th>\n",
       "      <th>graph</th>\n",
       "      <th>num_nodes_on_shortest_path</th>\n",
       "      <th>rank</th>\n",
       "      <th>running_time_ms</th>\n",
       "      <th>to</th>\n",
       "      <th>unpacking_running_time_ms</th>\n",
       "    </tr>\n",
       "  </thead>\n",
       "  <tbody>\n",
       "    <tr>\n",
       "      <th>1375535</th>\n",
       "      <td>Floating TDCCH Query</td>\n",
       "      <td>79088.58</td>\n",
       "      <td>79188.18</td>\n",
       "      <td>3109847</td>\n",
       "      <td>/algoDaten/graphs/cleaned_td_road_data/de/day/...</td>\n",
       "      <td>10.0</td>\n",
       "      <td>6</td>\n",
       "      <td>7.882223</td>\n",
       "      <td>3201814</td>\n",
       "      <td>0.002391</td>\n",
       "    </tr>\n",
       "  </tbody>\n",
       "</table>\n",
       "</div>"
      ],
      "text/plain": [
       "                         algo  departure_time  earliest_arrival     from  \\\n",
       "1375535  Floating TDCCH Query        79088.58          79188.18  3109847   \n",
       "\n",
       "                                                     graph  \\\n",
       "1375535  /algoDaten/graphs/cleaned_td_road_data/de/day/...   \n",
       "\n",
       "         num_nodes_on_shortest_path  rank  running_time_ms       to  \\\n",
       "1375535                        10.0     6         7.882223  3201814   \n",
       "\n",
       "         unpacking_running_time_ms  \n",
       "1375535                   0.002391  "
      ]
     },
     "execution_count": 18,
     "metadata": {},
     "output_type": "execute_result"
    }
   ],
   "source": [
    "query_running_times.loc[lambda x: x['running_time_ms'] > 1].loc[lambda x: x['rank'] == 6].loc[lambda x: x['graph'] == \"/algoDaten/graphs/cleaned_td_road_data/de/day/dido/\"]"
   ]
  }
 ],
 "metadata": {
  "kernelspec": {
   "display_name": "Python 3",
   "language": "python",
   "name": "python3"
  },
  "language_info": {
   "codemirror_mode": {
    "name": "ipython",
    "version": 3
   },
   "file_extension": ".py",
   "mimetype": "text/x-python",
   "name": "python",
   "nbconvert_exporter": "python",
   "pygments_lexer": "ipython3",
   "version": "3.7.3"
  }
 },
 "nbformat": 4,
 "nbformat_minor": 2
}
